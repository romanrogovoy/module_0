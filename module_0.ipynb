{
 "cells": [
  {
   "cell_type": "markdown",
   "metadata": {},
   "source": [
    "# Проект 0. GitHub. Самый быстрый"
   ]
  },
  {
   "cell_type": "markdown",
   "metadata": {},
   "source": [
    "## УГАДАЙ ЧИСЛО!"
   ]
  },
  {
   "cell_type": "code",
   "execution_count": 4,
   "metadata": {},
   "outputs": [
    {
     "name": "stdout",
     "output_type": "stream",
     "text": [
      "Введите верхнюю границу: 1000000\n",
      "Мой алгоритм угадывает число в интервале от 1 до 1000000 в среднем за 18 попыток\n"
     ]
    }
   ],
   "source": [
    "import numpy as np\n",
    "\n",
    "def score_game(game_core):\n",
    "    '''Запускаем игру 1000 раз, чтобы узнать, как быстро игра угадывает число'''\n",
    "    count_ls = []\n",
    "    np.random.seed(1)  # фиксируем RANDOM SEED, чтобы ваш эксперимент был воспроизводим!\n",
    "    random_array = np.random.randint(1,top+1, size=(1000))\n",
    "    for number in random_array:\n",
    "        count_ls.append(game_core(number))\n",
    "    score = int(np.mean(count_ls))\n",
    "    print(f\"Мой алгоритм угадывает число в интервале от 1 до {top} в среднем за {score} попыток\")\n",
    "#    return(score)\n",
    "\n",
    "# первая функция почти целиком взята из задания\n",
    "\n",
    "def game_core(number):\n",
    "    '''Собственно процесс угадывания'''\n",
    "    count = 1                                        # устанавливаем счетчик попыток на 1\n",
    "    top_int = top+1                                  # задаём верхнюю границу интервала перебора\n",
    "    bottom_int = 0                                   # задаём нижнюю границу интервала перебора\n",
    "    predict = (top_int-bottom_int)//2                # начинаем перебор с середины интервала\n",
    "    while number != predict:                         # начинаем условный цикл с проверки не угадано ли число\n",
    "        count += 1                                   # увеличиваем значение счётчика\n",
    "        if number > predict:                         # если предположение меньше загаданного числа\n",
    "            bottom_int = predict                     # устанавливаем предположение в качестве нижнего предела дальнейшего угадывания \n",
    "            predict += (top_int - predict)//2        # прибавляем к предположению целую часть половины разницы между верхним пределом и предположением\n",
    "        elif number < predict:                       # если предположение больше загаданного числа\n",
    "            top_int = predict                        # устанавливаем предположение в качестве верхнего предела дальнейшего угадывания\n",
    "            predict -= (predict - bottom_int)//2     # вычитаем от предположения целую часть половины разницы между нижним пределом и предположением\n",
    "    return(count)                                    # если число угадано - возвращаем счётчик попыток\n",
    "\n",
    "top = int(input('Введите верхнюю границу: '))        # делаем задачу чуть интереснее чем в условии \n",
    "\n",
    "score_game(game_core)                                # проверяем функцию game_core с помощью функции score_game"
   ]
  },
  {
   "cell_type": "code",
   "execution_count": null,
   "metadata": {},
   "outputs": [],
   "source": []
  }
 ],
 "metadata": {
  "kernelspec": {
   "display_name": "Python 3",
   "language": "python",
   "name": "python3"
  },
  "language_info": {
   "codemirror_mode": {
    "name": "ipython",
    "version": 3
   },
   "file_extension": ".py",
   "mimetype": "text/x-python",
   "name": "python",
   "nbconvert_exporter": "python",
   "pygments_lexer": "ipython3",
   "version": "3.8.5"
  }
 },
 "nbformat": 4,
 "nbformat_minor": 4
}
